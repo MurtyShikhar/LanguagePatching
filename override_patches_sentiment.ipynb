{
 "cells": [
  {
   "cell_type": "markdown",
   "id": "2caa7034",
   "metadata": {},
   "source": [
    "### Use this notebook to reproduce results of Tables 3, 4, 5 (except Yelp Colloquial since that uses the feature based patcher). "
   ]
  },
  {
   "cell_type": "code",
   "execution_count": 1,
   "id": "09f0b16e",
   "metadata": {},
   "outputs": [],
   "source": [
    "%load_ext autoreload\n",
    "%autoreload 2"
   ]
  },
  {
   "cell_type": "markdown",
   "id": "8a9faf23",
   "metadata": {},
   "source": [
    "#### Load in the model"
   ]
  },
  {
   "cell_type": "code",
   "execution_count": null,
   "id": "59c586ad",
   "metadata": {},
   "outputs": [
    {
     "name": "stderr",
     "output_type": "stream",
     "text": [
      "Some weights of T5ForConditionalGenerationMultipleHeads were not initialized from the model checkpoint at t5-large and are newly initialized: ['encoder.embed_tokens.weight']\n",
      "You should probably TRAIN this model on a down-stream task to be able to use it for predictions and inference.\n"
     ]
    },
    {
     "name": "stdout",
     "output_type": "stream",
     "text": [
      "primary mode: exp_applies_predictor\n",
      "splicing parts from pretrained model\n"
     ]
    },
    {
     "name": "stderr",
     "output_type": "stream",
     "text": [
      "Some weights of T5ForConditionalGeneration were not initialized from the model checkpoint at t5-large and are newly initialized: ['encoder.embed_tokens.weight']\n",
      "You should probably TRAIN this model on a down-stream task to be able to use it for predictions and inference.\n"
     ]
    }
   ],
   "source": [
    "from eval_utils import load_model\n",
    "\n",
    "path_name = '/u/scr/smurty/LanguageExplanations/trained_models/t5-large-sst-override_exp-final'\n",
    "model_obj = load_model(path_name, primary_mode='exp_applies_predictor')"
   ]
  },
  {
   "cell_type": "markdown",
   "id": "0c38a1f1",
   "metadata": {},
   "source": [
    "#### Helper functions for applying a single patch, and applying multiple patches"
   ]
  },
  {
   "cell_type": "code",
   "execution_count": null,
   "id": "96783171",
   "metadata": {},
   "outputs": [],
   "source": [
    "from eval_utils import predict_stuff\n",
    "import numpy as np\n",
    "import itertools\n",
    "\n",
    "def apply_patch_soft(exp_applies_probs, baseline_probs, label_clause):    \n",
    "    x = np.array([label_clause]).repeat(len(baseline_probs), 0)\n",
    "    #print(x.shape)\n",
    "    \n",
    "    applies_prob = exp_applies_probs[:, 1].reshape(-1, 1)\n",
    "    #print(applies_prob)\n",
    "    return applies_prob * x + (1 - applies_prob) * baseline_probs\n",
    "\n",
    "def get_scores_multiple_patches_hard(data, cond_list, examine=False):\n",
    "    no_exps = [('', ex) for ex in data[0]]\n",
    "    no_exp_probs = predict_stuff(no_exps, [0]*len(no_exps), model_obj, 'p1', verbose=False, mode='task_predictor')\n",
    "    cond_probs = []\n",
    "    interpret_probs = []\n",
    "    \n",
    "    all_patched_probs = []\n",
    "    for idx, (cond, label_clause) in enumerate(cond_list):\n",
    "        print(\"Applying patch {}\".format(cond))\n",
    "        contextualized = [(cond, ex) for ex in data[0]]\n",
    "        output_probs = predict_stuff(contextualized, itertools.repeat(0), model_obj, 'p1', verbose=False)\n",
    "        cond_probs.append(np.log(output_probs[:, 1])) # log(p(c | x))\n",
    "        patched_probs = apply_patch_soft(output_probs, no_exp_probs, label_clause) #Pr(y | x, lp)    \n",
    "        all_patched_probs.append(patched_probs[:, 1])\n",
    "        \n",
    "    # pick best patch and apply it! \n",
    "    all_patched_probs = np.stack(all_patched_probs, axis=1) # D x P\n",
    "    cond_probs = np.stack(cond_probs, axis=1) # D x P\n",
    "    best_patches = np.argmax(cond_probs, axis=1) # D x l\n",
    "    \n",
    "    ptrue = np.array([p[idx] for p, idx in zip(all_patched_probs, best_patches)])\n",
    "    pfalse = 1.0 - ptrue\n",
    "    return no_exp_probs, np.stack([pfalse, ptrue]).T\n",
    "\n"
   ]
  },
  {
   "cell_type": "markdown",
   "id": "001e9ccc",
   "metadata": {},
   "source": [
    "#### Results for Yelp-Stars"
   ]
  },
  {
   "cell_type": "code",
   "execution_count": null,
   "id": "05c46074",
   "metadata": {},
   "outputs": [],
   "source": [
    "from data_fns import get_yelp_stars\n",
    "tests_yelp = {'yelp_stars': get_yelp_stars()}"
   ]
  },
  {
   "cell_type": "code",
   "execution_count": null,
   "id": "b128c764",
   "metadata": {},
   "outputs": [],
   "source": [
    "no_exp, ours = get_scores_multiple_patches_hard(tests_yelp['yelp_stars'], \n",
    "                                 [('review gives 1 or 2 stars', [1,0]), ('review gives zero stars', [1,0])])"
   ]
  },
  {
   "cell_type": "code",
   "execution_count": null,
   "id": "8bd83638",
   "metadata": {},
   "outputs": [],
   "source": [
    "data = tests_yelp['yelp_stars']\n",
    "print(np.mean(no_exp.argmax(axis=1) == data[1]))\n",
    "print(np.mean(ours.argmax(axis=1) == data[1]))\n",
    "\n",
    "\n"
   ]
  },
  {
   "cell_type": "markdown",
   "id": "81e6b1a8",
   "metadata": {},
   "source": [
    "#### Results for WCR data"
   ]
  },
  {
   "cell_type": "code",
   "execution_count": null,
   "id": "853f7a80",
   "metadata": {},
   "outputs": [],
   "source": [
    "import pickle\n",
    "import pickle\n",
    "with open('wcr.pickle', 'rb') as reader:\n",
    "    dataset = pickle.load(reader)\n",
    "    \n",
    "explanations = [('review says fit is boxy',[1,0]),\n",
    "               (\"review contains words or phrases like needs to be returned\", [1, 0]),\n",
    "               (\"review contains words or phrases like needs to be exchanged\", [1,0])]\n",
    "    \n",
    "no_exp, ours = get_scores_multiple_patches_hard(dataset, explanations)\n"
   ]
  },
  {
   "cell_type": "code",
   "execution_count": null,
   "id": "b01f78c3",
   "metadata": {},
   "outputs": [],
   "source": [
    "print(np.mean(no_exp.argmax(axis=1) == dataset[1]))\n",
    "print(np.mean(ours.argmax(axis=1) == dataset[1]))"
   ]
  },
  {
   "cell_type": "markdown",
   "id": "81c9589e",
   "metadata": {},
   "source": [
    "#### Tables 3 and Tables 4 (Controlling the model with patches on Yelp.)\n",
    "\n"
   ]
  },
  {
   "cell_type": "code",
   "execution_count": null,
   "id": "d511b104",
   "metadata": {},
   "outputs": [],
   "source": [
    "from data_fns import get_yelp_data\n",
    "# set conflicting to True for Table-4 and False for Table-3\n",
    "d1 = get_yelp_data(conflicting=False)\n",
    "print(len(d1))"
   ]
  },
  {
   "cell_type": "code",
   "execution_count": null,
   "id": "ac8a014c",
   "metadata": {},
   "outputs": [],
   "source": [
    "def cond2label_dict(cond, orig_label):\n",
    "    is_food = 'food' in cond\n",
    "    is_good = 'good' in cond\n",
    "    \n",
    "    label_name2label = {'positive': 1, 'negative': 0, 'NAN': -1}\n",
    "    if is_food:\n",
    "        dict_to_use = [label for label in orig_label if label['category'] == 'food'][0]\n",
    "    else:\n",
    "        dict_to_use = [label for label in orig_label if label['category'] == 'service'][0]\n",
    "    # aspect sentiment. does patch apply\n",
    "    return label_name2label[dict_to_use['polarity']], int(label_name2label[dict_to_use['polarity']] == is_good)\n",
    "\n",
    "\n",
    "conds = [('food is good', [0,1]), ('service is good', [0,1]), ('food is bad',[1,0]), ('service is bad',[1,0])]\n",
    "label_sets = {cond: [cond2label_dict(cond, l) for l in d1[1]] for cond, _ in conds}"
   ]
  },
  {
   "cell_type": "code",
   "execution_count": null,
   "id": "ad65db33",
   "metadata": {},
   "outputs": [],
   "source": [
    "def get_steering_acc(data, labels, cond_labels, cond, cons, use_exps=True):\n",
    "    no_exps = [('', ex) for ex in data]\n",
    "    no_exp_probs = predict_stuff(no_exps, [0]*len(no_exps), model_obj, 'p1', verbose=False, mode='task_predictor')\n",
    "    no_exp_preds = no_exp_probs.argmax(axis=1)   \n",
    "    \n",
    "    if not use_exps:\n",
    "        acc_1 = np.sum((no_exp_preds == labels) & cond_labels)\n",
    "        return acc_1, np.sum(1-cond_labels), np.sum(cond_labels), np.sum(1-cond_labels)\n",
    "    else:\n",
    "        contextualized = [(cond, ex) for ex in data]\n",
    "        output_probs = predict_stuff(contextualized, cond_labels, model_obj, 'p1', verbose=False)\n",
    "        patched_probs = apply_patch_soft(output_probs, no_exp_probs, cons) #Pr(y | x, lp)\n",
    "        patched_preds = patched_probs.argmax(axis=1)\n",
    "        \n",
    "        # if patch applies, how often is model correct\n",
    "        acc_1 = np.sum((patched_preds == labels) & cond_labels)\n",
    "    \n",
    "        # if the patch doesn't apply, how often does the prediction say the same\n",
    "        acc_2 = np.sum((patched_preds == no_exp_preds) & (1-cond_labels))\n",
    "        return acc_1, acc_2, np.sum(cond_labels), np.sum(1-cond_labels)\n",
    "\n",
    "\n",
    "def get_scores(conds, use_exps=True):\n",
    "    t1 = 0.0\n",
    "    t2 = 0.0\n",
    "\n",
    "    total1 = 0.0\n",
    "    total2 = 0.0\n",
    "\n",
    "    for cond, cons in conds:\n",
    "        curr = label_sets[cond]\n",
    "        aspect_labels = np.array([a for a, _ in curr])\n",
    "        cond_applies = np.array([ca for _, ca in curr])\n",
    "\n",
    "        print(cond)\n",
    "        t1_c, t2_c, total1_c, total2_c = get_steering_acc(d1[0], aspect_labels, cond_applies, cond, cons, use_exps=use_exps)\n",
    "        t1 += t1_c\n",
    "        t2 += t2_c\n",
    "        total1 += total1_c\n",
    "        total2 += total2_c    \n",
    "    return t1 / total1, t2 / total2"
   ]
  },
  {
   "cell_type": "code",
   "execution_count": null,
   "id": "aa055d5e",
   "metadata": {},
   "outputs": [],
   "source": [
    "s1, s2 = get_scores(conds)\n",
    "print(s1,s2)"
   ]
  },
  {
   "cell_type": "code",
   "execution_count": null,
   "id": "d47a0f6f",
   "metadata": {},
   "outputs": [],
   "source": [
    "s1, s2 = get_scores(conds, use_exps=False)\n",
    "print(s1, s2)"
   ]
  },
  {
   "cell_type": "code",
   "execution_count": null,
   "id": "6e8b9eb5",
   "metadata": {},
   "outputs": [],
   "source": []
  }
 ],
 "metadata": {
  "kernelspec": {
   "display_name": "shikhar-basic",
   "language": "python",
   "name": "shikhar-basic"
  },
  "language_info": {
   "codemirror_mode": {
    "name": "ipython",
    "version": 3
   },
   "file_extension": ".py",
   "mimetype": "text/x-python",
   "name": "python",
   "nbconvert_exporter": "python",
   "pygments_lexer": "ipython3",
   "version": "3.8.10"
  }
 },
 "nbformat": 4,
 "nbformat_minor": 5
}
