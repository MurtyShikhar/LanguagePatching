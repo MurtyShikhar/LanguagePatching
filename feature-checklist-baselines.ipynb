{
 "cells": [
  {
   "cell_type": "code",
   "execution_count": 1,
   "id": "0c03b5a6",
   "metadata": {},
   "outputs": [],
   "source": [
    "%load_ext autoreload\n",
    "%autoreload 2"
   ]
  },
  {
   "cell_type": "code",
   "execution_count": null,
   "id": "8de87b68",
   "metadata": {},
   "outputs": [
    {
     "name": "stderr",
     "output_type": "stream",
     "text": [
      "Some weights of T5ForConditionalGenerationMultipleHeads were not initialized from the model checkpoint at t5-large and are newly initialized: ['encoder.embed_tokens.weight']\n",
      "You should probably TRAIN this model on a down-stream task to be able to use it for predictions and inference.\n"
     ]
    },
    {
     "name": "stdout",
     "output_type": "stream",
     "text": [
      "primary mode: exp_applies_predictor\n",
      "splicing parts from pretrained model\n"
     ]
    },
    {
     "name": "stderr",
     "output_type": "stream",
     "text": [
      "Some weights of T5ForConditionalGeneration were not initialized from the model checkpoint at t5-large and are newly initialized: ['encoder.embed_tokens.weight']\n",
      "You should probably TRAIN this model on a down-stream task to be able to use it for predictions and inference.\n"
     ]
    }
   ],
   "source": [
    "from eval_utils import load_model\n",
    "path_name = '/u/scr/smurty/LanguageExplanations/trained_models/t5-large-sst-no-exp'\n",
    "model_obj = load_model(path_name, primary_mode='exp_applies_predictor')"
   ]
  },
  {
   "cell_type": "code",
   "execution_count": null,
   "id": "ff4c7555",
   "metadata": {},
   "outputs": [],
   "source": [
    "from collections import Counter\n",
    "from eval_utils import predict_stuff\n",
    "import itertools\n",
    "import numpy as np\n",
    "\n",
    "\n",
    "def single_prompt_pred(model, data, prompt, examine=False):\n",
    "    prompted_inps = [(prompt, ex) for ex in data[0]]\n",
    "    probs = predict_stuff(prompted_inps, itertools.repeat(0), \n",
    "                          model, 'p1', verbose=False, mode='task_predictor')\n",
    "    #print(np.mean(probs.argmax(axis=1)==data[1]))\n",
    "    return probs.argmax(axis=1)\n",
    "\n",
    "def get_prompting_scores(model_obj, data, prompt_set, examine=False):\n",
    "    orig_preds = single_prompt_pred(model_obj, data, '')\n",
    "    all_preds = []\n",
    "    for prompt in patches:\n",
    "        all_preds.append(single_prompt_pred(model_obj, (inputs, labels), prompt))\n",
    "    p = np.stack(all_preds, axis=1)\n",
    "    model_preds = []\n",
    "    for x in p:\n",
    "        counts = Counter(x)\n",
    "        model_preds.append(counts[1] > counts[0])\n",
    "    return np.array(model_preds), orig_preds"
   ]
  },
  {
   "cell_type": "code",
   "execution_count": null,
   "id": "c00d54d1",
   "metadata": {},
   "outputs": [],
   "source": [
    "from data_fns import knowledge_absn\n",
    "inputs, labels, patches = knowledge_absn(abstraction=True)\n",
    "\n",
    "model_preds, orig_preds = get_prompting_scores(model_obj, (inputs, labels), patches)\n",
    "print(np.mean(model_preds == orig_preds))"
   ]
  },
  {
   "cell_type": "code",
   "execution_count": null,
   "id": "39797ed6",
   "metadata": {},
   "outputs": [],
   "source": [
    "from data_fns import knowledge_checklists\n",
    "out, patches = knowledge_checklists(abstraction=True)\n",
    "inputs = []\n",
    "labels = []\n",
    "for key in out:\n",
    "    inputs += out[key]['instances']\n",
    "    labels += out[key]['labels']"
   ]
  },
  {
   "cell_type": "code",
   "execution_count": null,
   "id": "e46acfec",
   "metadata": {},
   "outputs": [],
   "source": [
    "model_preds, orig_preds = get_prompting_scores(model_obj, (inputs, labels), patches)\n",
    "print(np.mean(model_preds == labels))\n",
    "print(np.mean(orig_preds == labels))"
   ]
  },
  {
   "cell_type": "code",
   "execution_count": null,
   "id": "37d0a75b",
   "metadata": {},
   "outputs": [],
   "source": []
  }
 ],
 "metadata": {
  "kernelspec": {
   "display_name": "shikhar-basic",
   "language": "python",
   "name": "shikhar-basic"
  },
  "language_info": {
   "codemirror_mode": {
    "name": "ipython",
    "version": 3
   },
   "file_extension": ".py",
   "mimetype": "text/x-python",
   "name": "python",
   "nbconvert_exporter": "python",
   "pygments_lexer": "ipython3",
   "version": "3.8.10"
  }
 },
 "nbformat": 4,
 "nbformat_minor": 5
}
