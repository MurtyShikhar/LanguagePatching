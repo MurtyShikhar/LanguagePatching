{
 "cells": [
  {
   "cell_type": "markdown",
   "id": "ad94f801",
   "metadata": {},
   "source": [
    "#### For overrride patches, we use checklists to evaluate how well our model can:\n",
    "- use patches when they refer to abstract conditions\n",
    "- avoid spurious behaviors like matching based on keywords, ignoring negated contexts etc."
   ]
  },
  {
   "cell_type": "code",
   "execution_count": 18,
   "id": "24e423ed",
   "metadata": {},
   "outputs": [
    {
     "name": "stdout",
     "output_type": "stream",
     "text": [
      "The autoreload extension is already loaded. To reload it, use:\n",
      "  %reload_ext autoreload\n"
     ]
    }
   ],
   "source": [
    "%load_ext autoreload\n",
    "%autoreload 2"
   ]
  },
  {
   "cell_type": "code",
   "execution_count": 2,
   "id": "6baf50f7",
   "metadata": {},
   "outputs": [
    {
     "name": "stderr",
     "output_type": "stream",
     "text": [
      "Some weights of T5ForConditionalGenerationMultipleHeads were not initialized from the model checkpoint at t5-large and are newly initialized: ['encoder.embed_tokens.weight']\n",
      "You should probably TRAIN this model on a down-stream task to be able to use it for predictions and inference.\n"
     ]
    },
    {
     "name": "stdout",
     "output_type": "stream",
     "text": [
      "primary mode: exp_applies_predictor\n",
      "splicing parts from pretrained model\n"
     ]
    },
    {
     "name": "stderr",
     "output_type": "stream",
     "text": [
      "Some weights of T5ForConditionalGeneration were not initialized from the model checkpoint at t5-large and are newly initialized: ['encoder.embed_tokens.weight']\n",
      "You should probably TRAIN this model on a down-stream task to be able to use it for predictions and inference.\n"
     ]
    }
   ],
   "source": [
    "from eval_utils import load_model\n",
    "\n",
    "# TODO: make this notebook better. try to use mtl vs non mtl and see difference. \n",
    "# TODO: see what the baseline without any explanations or anything gets. \n",
    "\n",
    "#path_name = '/u/scr/smurty/LanguageExplanations/gpt2-finetune-generalization/models/t5-large-sst-no-exp'\n",
    "#path_name = '/u/scr/smurty/LanguageExplanations/all_models/t5-large-sst-fix-mtl-4'\n",
    "\n",
    "\n",
    "path_name='t5-sst-overrides-mtl-newest'\n",
    "model_obj = load_model(path_name, primary_mode='exp_applies_predictor')"
   ]
  },
  {
   "cell_type": "code",
   "execution_count": 1,
   "id": "f65adba1",
   "metadata": {},
   "outputs": [],
   "source": [
    "from data_fns import keyword_matching_real_words, keyword_matching_gibberish_words, aspect_abstraction_test_fn\n",
    "\n",
    "all_datasets = {'keyword_real': keyword_matching_real_words(),\n",
    "               'aspect': aspect_abstraction_test_fn(),\n",
    "               'keyword_gibberish': keyword_matching_gibberish_words()}\n",
    "\n",
    "\n",
    "\n",
    "### construct a label according to the conditions, since we have an override.\n",
    "def cond2label_dict(cond, orig_label):\n",
    "    is_food = 'food' in cond\n",
    "    is_good = 'good' in cond\n",
    "    label_name2label = {'positive': 1, 'negative': 0, 'NAN': -1}\n",
    "    if is_food:\n",
    "        dict_to_use = [label for label in orig_label if label['category'] == 'food'][0]\n",
    "    else:\n",
    "        dict_to_use = [label for label in orig_label if label['category'] == 'service'][0]\n",
    "        \n",
    "    label = label_name2label[dict_to_use['polarity']]\n",
    "    cond_label = int(label_name2label[dict_to_use['polarity']] == is_good)\n",
    "    return label, cond_label\n",
    "\n",
    "\n",
    "def conds_and_labels(data_tuple):\n",
    "    def helper(explanation, inputs):\n",
    "        word = explanation.split(\",\")[0].split(\" \")[-1]\n",
    "        ### If word appears in label, then the explanation applies\n",
    "        labels =  [int(word in cinput) for cinput in inputs]\n",
    "        cond = \" \".join(explanation.split(\",\")[0].split(\" \")[1:])\n",
    "        return cond, labels    \n",
    "\n",
    "    data_conds = []\n",
    "    data_label_sets = {}\n",
    "    for explanation in data_tuple[-1]:\n",
    "        cond, labels = helper(explanation, data_tuple[0])\n",
    "        if 'positive' in explanation:\n",
    "            l = [0, 1]\n",
    "        else:\n",
    "            l = [1, 0]\n",
    "        data_conds.append((cond, l))\n",
    "        data_label_sets[cond] = labels    \n",
    "    return data_conds, data_label_sets\n",
    "\n",
    "\n",
    "all_conds = {}\n",
    "all_label_sets = {}\n",
    "for key in all_datasets:\n",
    "    val = all_datasets[key]\n",
    "    if 'checklist' in key :\n",
    "        conds = [('food is good', [0,1]), ('service is good', [0,1]), ('food is bad',[1,0]), ('service is bad',[1,0])]\n",
    "        label_sets = {cond: [cond2label_dict(cond, l) for l in val[1]] for cond, _ in conds}\n",
    "    else:\n",
    "        conds, label_sets = conds_and_labels(val)\n",
    "    \n",
    "    all_conds[key] = conds\n",
    "    all_label_sets[key] = label_sets"
   ]
  },
  {
   "cell_type": "code",
   "execution_count": 11,
   "id": "f2e86a82",
   "metadata": {},
   "outputs": [],
   "source": [
    "from eval_utils import predict_stuff\n",
    "import numpy as np\n",
    "import itertools\n",
    "\n",
    "\n",
    "def apply_patch_soft(exp_applies_probs, baseline_probs, label_clause):    \n",
    "    x = np.array([label_clause]).repeat(len(baseline_probs), 0)\n",
    "    #print(x.shape)    \n",
    "    applies_prob = exp_applies_probs[:, 1].reshape(-1, 1)\n",
    "    #print(applies_prob)\n",
    "    return applies_prob * x + (1 - applies_prob) * baseline_probs\n",
    "\n",
    "\n",
    "def get_scores_multiple_patches_hard(data, cond_list, examine=False):\n",
    "    no_exps = [('', ex) for ex in data[0]]\n",
    "    no_exp_probs = predict_stuff(no_exps, [0]*len(no_exps), model_obj, 'p1', verbose=False, mode='task_predictor')\n",
    "    cond_probs = []\n",
    "    interpret_probs = []\n",
    "    all_patched_probs = []\n",
    "    for idx, (cond, label_clause) in enumerate(cond_list):\n",
    "        if cond == '':\n",
    "            continue\n",
    "        contextualized = [(cond, ex) for ex in data[0]]\n",
    "        output_probs = predict_stuff(contextualized, itertools.repeat(0), model_obj, 'p1', verbose=False)\n",
    "        cond_probs.append(np.log(output_probs[:, 1])) # log(p(c | x))\n",
    "        \n",
    "        patched_probs = apply_patch_soft(output_probs, no_exp_probs, label_clause) #Pr(y | x, lp)        \n",
    "        all_patched_probs.append(patched_probs[:, 1])\n",
    "    # how much should each be weighted by?    \n",
    "    # pick best patch and apply it! \n",
    "    all_patched_probs = np.stack(all_patched_probs, axis=1) # D x P\n",
    "    cond_probs = np.stack(cond_probs, axis=1) # D x P\n",
    "    best_patches = np.argmax(cond_probs, axis=1) # D x l\n",
    "    \n",
    "    ptrue = np.array([p[idx] for p, idx in zip(all_patched_probs, best_patches)])\n",
    "    pfalse = 1.0 - ptrue\n",
    "    return no_exp_probs, np.stack([pfalse, ptrue]).T"
   ]
  },
  {
   "cell_type": "code",
   "execution_count": 5,
   "id": "365a8396",
   "metadata": {},
   "outputs": [
    {
     "data": {
      "application/vnd.jupyter.widget-view+json": {
       "model_id": "48c169ef981749fb8250bce7cf8ff4f5",
       "version_major": 2,
       "version_minor": 0
      },
      "text/plain": [
       "  0%|          | 0/1 [00:00<?, ?ba/s]"
      ]
     },
     "metadata": {},
     "output_type": "display_data"
    },
    {
     "data": {
      "application/vnd.jupyter.widget-view+json": {
       "model_id": "30a08cca808046e08d56d7e57c6200fa",
       "version_major": 2,
       "version_minor": 0
      },
      "text/plain": [
       "  0%|          | 0/1 [00:00<?, ?ba/s]"
      ]
     },
     "metadata": {},
     "output_type": "display_data"
    },
    {
     "data": {
      "application/vnd.jupyter.widget-view+json": {
       "model_id": "0f76196be582430ab6c7f3d36332317d",
       "version_major": 2,
       "version_minor": 0
      },
      "text/plain": [
       "  0%|          | 0/1 [00:00<?, ?ba/s]"
      ]
     },
     "metadata": {},
     "output_type": "display_data"
    },
    {
     "data": {
      "application/vnd.jupyter.widget-view+json": {
       "model_id": "de3f23d8186847bcb08723f95eb840c4",
       "version_major": 2,
       "version_minor": 0
      },
      "text/plain": [
       "  0%|          | 0/1 [00:00<?, ?ba/s]"
      ]
     },
     "metadata": {},
     "output_type": "display_data"
    },
    {
     "data": {
      "application/vnd.jupyter.widget-view+json": {
       "model_id": "f2b9b46f024e4aa89a15c54a92879faf",
       "version_major": 2,
       "version_minor": 0
      },
      "text/plain": [
       "  0%|          | 0/1 [00:00<?, ?ba/s]"
      ]
     },
     "metadata": {},
     "output_type": "display_data"
    },
    {
     "data": {
      "application/vnd.jupyter.widget-view+json": {
       "model_id": "28c5d4e1cdc4453bab82048829eec453",
       "version_major": 2,
       "version_minor": 0
      },
      "text/plain": [
       "  0%|          | 0/1 [00:00<?, ?ba/s]"
      ]
     },
     "metadata": {},
     "output_type": "display_data"
    },
    {
     "data": {
      "application/vnd.jupyter.widget-view+json": {
       "model_id": "aa7b7a9b350c4814b7773b76c67ff4d5",
       "version_major": 2,
       "version_minor": 0
      },
      "text/plain": [
       "  0%|          | 0/1 [00:00<?, ?ba/s]"
      ]
     },
     "metadata": {},
     "output_type": "display_data"
    },
    {
     "data": {
      "application/vnd.jupyter.widget-view+json": {
       "model_id": "13a372a9ef2845e0926da1ad4a3aade7",
       "version_major": 2,
       "version_minor": 0
      },
      "text/plain": [
       "  0%|          | 0/1 [00:00<?, ?ba/s]"
      ]
     },
     "metadata": {},
     "output_type": "display_data"
    },
    {
     "data": {
      "application/vnd.jupyter.widget-view+json": {
       "model_id": "8b54a59b2a3b403783cb0149a1caa766",
       "version_major": 2,
       "version_minor": 0
      },
      "text/plain": [
       "  0%|          | 0/1 [00:00<?, ?ba/s]"
      ]
     },
     "metadata": {},
     "output_type": "display_data"
    },
    {
     "name": "stdout",
     "output_type": "stream",
     "text": [
      "0.8602941176470589\n",
      "1.0\n"
     ]
    },
    {
     "data": {
      "application/vnd.jupyter.widget-view+json": {
       "model_id": "5228647f45e34931865bf4aa48afe93f",
       "version_major": 2,
       "version_minor": 0
      },
      "text/plain": [
       "  0%|          | 0/1 [00:00<?, ?ba/s]"
      ]
     },
     "metadata": {},
     "output_type": "display_data"
    },
    {
     "data": {
      "application/vnd.jupyter.widget-view+json": {
       "model_id": "a21bdcb4e1bc45b7bce667bbce45ea2e",
       "version_major": 2,
       "version_minor": 0
      },
      "text/plain": [
       "  0%|          | 0/1 [00:00<?, ?ba/s]"
      ]
     },
     "metadata": {},
     "output_type": "display_data"
    },
    {
     "data": {
      "application/vnd.jupyter.widget-view+json": {
       "model_id": "08bc516f08ad457f84b422814d75cf17",
       "version_major": 2,
       "version_minor": 0
      },
      "text/plain": [
       "  0%|          | 0/1 [00:00<?, ?ba/s]"
      ]
     },
     "metadata": {},
     "output_type": "display_data"
    },
    {
     "data": {
      "application/vnd.jupyter.widget-view+json": {
       "model_id": "3fae6ce455c24ba78dfd8e29e76fbce9",
       "version_major": 2,
       "version_minor": 0
      },
      "text/plain": [
       "  0%|          | 0/1 [00:00<?, ?ba/s]"
      ]
     },
     "metadata": {},
     "output_type": "display_data"
    },
    {
     "data": {
      "application/vnd.jupyter.widget-view+json": {
       "model_id": "9e826a706f4d4edd817fc78fffc25641",
       "version_major": 2,
       "version_minor": 0
      },
      "text/plain": [
       "  0%|          | 0/1 [00:00<?, ?ba/s]"
      ]
     },
     "metadata": {},
     "output_type": "display_data"
    },
    {
     "name": "stdout",
     "output_type": "stream",
     "text": [
      "0.6458333333333334\n",
      "0.9166666666666666\n"
     ]
    },
    {
     "data": {
      "application/vnd.jupyter.widget-view+json": {
       "model_id": "1d79fdca008b4480a84a86717bd2151e",
       "version_major": 2,
       "version_minor": 0
      },
      "text/plain": [
       "  0%|          | 0/1 [00:00<?, ?ba/s]"
      ]
     },
     "metadata": {},
     "output_type": "display_data"
    },
    {
     "data": {
      "application/vnd.jupyter.widget-view+json": {
       "model_id": "ca4ea033afab46038bf4cc288f714330",
       "version_major": 2,
       "version_minor": 0
      },
      "text/plain": [
       "  0%|          | 0/1 [00:00<?, ?ba/s]"
      ]
     },
     "metadata": {},
     "output_type": "display_data"
    },
    {
     "data": {
      "application/vnd.jupyter.widget-view+json": {
       "model_id": "e7a4aa5eb9f24be4b9e9cc73a7cbe7f5",
       "version_major": 2,
       "version_minor": 0
      },
      "text/plain": [
       "  0%|          | 0/1 [00:00<?, ?ba/s]"
      ]
     },
     "metadata": {},
     "output_type": "display_data"
    },
    {
     "data": {
      "application/vnd.jupyter.widget-view+json": {
       "model_id": "17839db0d6d54b6abbe6892d4501196f",
       "version_major": 2,
       "version_minor": 0
      },
      "text/plain": [
       "  0%|          | 0/1 [00:00<?, ?ba/s]"
      ]
     },
     "metadata": {},
     "output_type": "display_data"
    },
    {
     "data": {
      "application/vnd.jupyter.widget-view+json": {
       "model_id": "764d6cec33a24fecbb57630b979ece7d",
       "version_major": 2,
       "version_minor": 0
      },
      "text/plain": [
       "  0%|          | 0/1 [00:00<?, ?ba/s]"
      ]
     },
     "metadata": {},
     "output_type": "display_data"
    },
    {
     "data": {
      "application/vnd.jupyter.widget-view+json": {
       "model_id": "f9e8ad78016f41c282b3b79a581a5544",
       "version_major": 2,
       "version_minor": 0
      },
      "text/plain": [
       "  0%|          | 0/1 [00:00<?, ?ba/s]"
      ]
     },
     "metadata": {},
     "output_type": "display_data"
    },
    {
     "data": {
      "application/vnd.jupyter.widget-view+json": {
       "model_id": "78e2d6618a9b4aa4b085a58be5bbb45a",
       "version_major": 2,
       "version_minor": 0
      },
      "text/plain": [
       "  0%|          | 0/1 [00:00<?, ?ba/s]"
      ]
     },
     "metadata": {},
     "output_type": "display_data"
    },
    {
     "name": "stdout",
     "output_type": "stream",
     "text": [
      "0.49019607843137253\n",
      "1.0\n"
     ]
    }
   ],
   "source": [
    "from collections import Counter\n",
    "all_outputs = {}\n",
    "\n",
    "for key in all_datasets:\n",
    "    val = all_datasets[key]    \n",
    "    all_cond = all_conds[key]\n",
    "    label_sets = all_label_sets[key]\n",
    "    baseline, patched = get_scores_multiple_patches_hard(val, all_cond)    \n",
    "    print(np.mean(baseline.argmax(axis=1)==val[1]))\n",
    "    print(np.mean(patched.argmax(axis=1)==val[1]))\n",
    " "
   ]
  },
  {
   "cell_type": "markdown",
   "id": "2fd04b33",
   "metadata": {},
   "source": [
    "#### Next, we measure when patches are not relevant, how often does the model's behavior remain unchanged."
   ]
  },
  {
   "cell_type": "code",
   "execution_count": 15,
   "id": "997a744b",
   "metadata": {},
   "outputs": [
    {
     "name": "stdout",
     "output_type": "stream",
     "text": [
      "[('food is described as weird', [1, 0]), ('food is described as surprising', [1, 0]), ('food is described as unexpected', [1, 0]), ('food is described as unusual', [1, 0])]\n"
     ]
    },
    {
     "data": {
      "application/vnd.jupyter.widget-view+json": {
       "model_id": "f910bb04bf614f06ac2b17774c7ccbf6",
       "version_major": 2,
       "version_minor": 0
      },
      "text/plain": [
       "  0%|          | 0/1 [00:00<?, ?ba/s]"
      ]
     },
     "metadata": {},
     "output_type": "display_data"
    },
    {
     "data": {
      "application/vnd.jupyter.widget-view+json": {
       "model_id": "8c2c7bef4a274f83ac2f3264c08c983d",
       "version_major": 2,
       "version_minor": 0
      },
      "text/plain": [
       "  0%|          | 0/1 [00:00<?, ?ba/s]"
      ]
     },
     "metadata": {},
     "output_type": "display_data"
    },
    {
     "data": {
      "application/vnd.jupyter.widget-view+json": {
       "model_id": "8ccfa8ec7a0340089ac2428482c0590e",
       "version_major": 2,
       "version_minor": 0
      },
      "text/plain": [
       "  0%|          | 0/1 [00:00<?, ?ba/s]"
      ]
     },
     "metadata": {},
     "output_type": "display_data"
    },
    {
     "data": {
      "application/vnd.jupyter.widget-view+json": {
       "model_id": "82dfbbaefde94015b34e344d483262ac",
       "version_major": 2,
       "version_minor": 0
      },
      "text/plain": [
       "  0%|          | 0/1 [00:00<?, ?ba/s]"
      ]
     },
     "metadata": {},
     "output_type": "display_data"
    },
    {
     "data": {
      "application/vnd.jupyter.widget-view+json": {
       "model_id": "45c0770c9af144318506afcd3cf8e3f7",
       "version_major": 2,
       "version_minor": 0
      },
      "text/plain": [
       "  0%|          | 0/1 [00:00<?, ?ba/s]"
      ]
     },
     "metadata": {},
     "output_type": "display_data"
    },
    {
     "name": "stdout",
     "output_type": "stream",
     "text": [
      "1.0\n"
     ]
    }
   ],
   "source": [
    "invariance_datasets = {'aspect_negated': aspect_abstraction_test_fn_negated()}\n",
    "\n",
    "for key in invariance_datasets:\n",
    "    val = invariance_datasets[key]    \n",
    "    conds, label_sets = conds_and_labels(val)\n",
    "    print(conds)\n",
    "    \n",
    "    baseline, patched = get_scores_multiple_patches_hard(val, conds)\n",
    "    print(np.mean(baseline.argmax(axis=1)==patched.argmax(axis=1)))\n",
    "\n"
   ]
  },
  {
   "cell_type": "code",
   "execution_count": 23,
   "id": "7a527eb9",
   "metadata": {},
   "outputs": [
    {
     "data": {
      "application/vnd.jupyter.widget-view+json": {
       "model_id": "42e4295a00a940ffbe7f964f70b8b2be",
       "version_major": 2,
       "version_minor": 0
      },
      "text/plain": [
       "  0%|          | 0/1 [00:00<?, ?ba/s]"
      ]
     },
     "metadata": {},
     "output_type": "display_data"
    },
    {
     "data": {
      "application/vnd.jupyter.widget-view+json": {
       "model_id": "5d5fb3b756fe4cd4bad3ea648f166846",
       "version_major": 2,
       "version_minor": 0
      },
      "text/plain": [
       "  0%|          | 0/1 [00:00<?, ?ba/s]"
      ]
     },
     "metadata": {},
     "output_type": "display_data"
    },
    {
     "name": "stdout",
     "output_type": "stream",
     "text": [
      "1.0\n"
     ]
    },
    {
     "data": {
      "application/vnd.jupyter.widget-view+json": {
       "model_id": "46da106cca1f4d3ea664bc359f6b5ac6",
       "version_major": 2,
       "version_minor": 0
      },
      "text/plain": [
       "  0%|          | 0/1 [00:00<?, ?ba/s]"
      ]
     },
     "metadata": {},
     "output_type": "display_data"
    },
    {
     "data": {
      "application/vnd.jupyter.widget-view+json": {
       "model_id": "c24b3bcc8ef749999d7fb39c71db1052",
       "version_major": 2,
       "version_minor": 0
      },
      "text/plain": [
       "  0%|          | 0/1 [00:00<?, ?ba/s]"
      ]
     },
     "metadata": {},
     "output_type": "display_data"
    },
    {
     "name": "stdout",
     "output_type": "stream",
     "text": [
      "1.0\n"
     ]
    }
   ],
   "source": [
    "from data_fns import get_checklist_data_negated\n",
    "data_curr = get_checklist_data_negated()\n",
    "\n",
    "for key in data_curr:\n",
    "    if 'good' in key:\n",
    "        cons = [0, 1]\n",
    "    else:\n",
    "        cons = [1, 0]\n",
    "    examples = [ex for t in data_curr[key] for ex in t['data']]\n",
    "    baseline, patched = get_scores_multiple_patches_hard([examples, itertools.repeat(0)], [(key, cons)])\n",
    "    print(np.mean(baseline.argmax(axis=1)==patched.argmax(axis=1)))\n",
    "\n"
   ]
  },
  {
   "cell_type": "code",
   "execution_count": null,
   "id": "c8c5f820",
   "metadata": {},
   "outputs": [],
   "source": []
  }
 ],
 "metadata": {
  "kernelspec": {
   "display_name": "shikhar-basic",
   "language": "python",
   "name": "shikhar-basic"
  },
  "language_info": {
   "codemirror_mode": {
    "name": "ipython",
    "version": 3
   },
   "file_extension": ".py",
   "mimetype": "text/x-python",
   "name": "python",
   "nbconvert_exporter": "python",
   "pygments_lexer": "ipython3",
   "version": "3.8.10"
  }
 },
 "nbformat": 4,
 "nbformat_minor": 5
}
